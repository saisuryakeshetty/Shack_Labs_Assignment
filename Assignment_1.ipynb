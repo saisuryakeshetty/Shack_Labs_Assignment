{
 "cells": [
  {
   "cell_type": "code",
   "execution_count": 1,
   "id": "b24d9d46",
   "metadata": {},
   "outputs": [],
   "source": [
    "import numpy as np\n",
    "import pandas as pd\n",
    "from sklearn.model_selection import train_test_split\n",
    "from sklearn.preprocessing import FunctionTransformer\n",
    "from sklearn.preprocessing import StandardScaler\n",
    "from sklearn.pipeline import Pipeline\n",
    "from sklearn.model_selection import GridSearchCV\n",
    "from sklearn.model_selection import RandomizedSearchCV\n",
    "from sklearn.linear_model import LinearRegression\n",
    "from sklearn.metrics import mean_squared_error\n",
    "from sklearn.neighbors import KNeighborsRegressor\n",
    "from sklearn.svm import SVR\n",
    "from sklearn.ensemble import RandomForestRegressor\n",
    "from sklearn.tree import DecisionTreeRegressor\n",
    "from sklearn.ensemble import AdaBoostRegressor\n",
    "from lightgbm import LGBMRegressor\n",
    "from xgboost import XGBRegressor"
   ]
  },
  {
   "cell_type": "code",
   "execution_count": 2,
   "id": "31430746",
   "metadata": {},
   "outputs": [],
   "source": [
    "df = pd.read_excel('DS - Assignment Part 1 data set.xlsx','工作表1')"
   ]
  },
  {
   "cell_type": "code",
   "execution_count": 3,
   "id": "b3fb80d1",
   "metadata": {
    "scrolled": true
   },
   "outputs": [
    {
     "data": {
      "text/html": [
       "<div>\n",
       "<style scoped>\n",
       "    .dataframe tbody tr th:only-of-type {\n",
       "        vertical-align: middle;\n",
       "    }\n",
       "\n",
       "    .dataframe tbody tr th {\n",
       "        vertical-align: top;\n",
       "    }\n",
       "\n",
       "    .dataframe thead th {\n",
       "        text-align: right;\n",
       "    }\n",
       "</style>\n",
       "<table border=\"1\" class=\"dataframe\">\n",
       "  <thead>\n",
       "    <tr style=\"text-align: right;\">\n",
       "      <th></th>\n",
       "      <th>Transaction date</th>\n",
       "      <th>House Age</th>\n",
       "      <th>Distance from nearest Metro station (km)</th>\n",
       "      <th>Number of convenience stores</th>\n",
       "      <th>latitude</th>\n",
       "      <th>longitude</th>\n",
       "      <th>Number of bedrooms</th>\n",
       "      <th>House size (sqft)</th>\n",
       "      <th>House price of unit area</th>\n",
       "    </tr>\n",
       "  </thead>\n",
       "  <tbody>\n",
       "    <tr>\n",
       "      <th>0</th>\n",
       "      <td>2012.916667</td>\n",
       "      <td>32.0</td>\n",
       "      <td>84.87882</td>\n",
       "      <td>10</td>\n",
       "      <td>24.98298</td>\n",
       "      <td>121.54024</td>\n",
       "      <td>1</td>\n",
       "      <td>575</td>\n",
       "      <td>37.9</td>\n",
       "    </tr>\n",
       "    <tr>\n",
       "      <th>1</th>\n",
       "      <td>2012.916667</td>\n",
       "      <td>19.5</td>\n",
       "      <td>306.59470</td>\n",
       "      <td>9</td>\n",
       "      <td>24.98034</td>\n",
       "      <td>121.53951</td>\n",
       "      <td>2</td>\n",
       "      <td>1240</td>\n",
       "      <td>42.2</td>\n",
       "    </tr>\n",
       "    <tr>\n",
       "      <th>2</th>\n",
       "      <td>2013.583333</td>\n",
       "      <td>13.3</td>\n",
       "      <td>561.98450</td>\n",
       "      <td>5</td>\n",
       "      <td>24.98746</td>\n",
       "      <td>121.54391</td>\n",
       "      <td>3</td>\n",
       "      <td>1060</td>\n",
       "      <td>47.3</td>\n",
       "    </tr>\n",
       "    <tr>\n",
       "      <th>3</th>\n",
       "      <td>2013.500000</td>\n",
       "      <td>13.3</td>\n",
       "      <td>561.98450</td>\n",
       "      <td>5</td>\n",
       "      <td>24.98746</td>\n",
       "      <td>121.54391</td>\n",
       "      <td>2</td>\n",
       "      <td>875</td>\n",
       "      <td>54.8</td>\n",
       "    </tr>\n",
       "    <tr>\n",
       "      <th>4</th>\n",
       "      <td>2012.833333</td>\n",
       "      <td>5.0</td>\n",
       "      <td>390.56840</td>\n",
       "      <td>5</td>\n",
       "      <td>24.97937</td>\n",
       "      <td>121.54245</td>\n",
       "      <td>1</td>\n",
       "      <td>491</td>\n",
       "      <td>43.1</td>\n",
       "    </tr>\n",
       "  </tbody>\n",
       "</table>\n",
       "</div>"
      ],
      "text/plain": [
       "   Transaction date  House Age  Distance from nearest Metro station (km)  \\\n",
       "0       2012.916667       32.0                                  84.87882   \n",
       "1       2012.916667       19.5                                 306.59470   \n",
       "2       2013.583333       13.3                                 561.98450   \n",
       "3       2013.500000       13.3                                 561.98450   \n",
       "4       2012.833333        5.0                                 390.56840   \n",
       "\n",
       "   Number of convenience stores  latitude  longitude  Number of bedrooms  \\\n",
       "0                            10  24.98298  121.54024                   1   \n",
       "1                             9  24.98034  121.53951                   2   \n",
       "2                             5  24.98746  121.54391                   3   \n",
       "3                             5  24.98746  121.54391                   2   \n",
       "4                             5  24.97937  121.54245                   1   \n",
       "\n",
       "   House size (sqft)  House price of unit area  \n",
       "0                575                      37.9  \n",
       "1               1240                      42.2  \n",
       "2               1060                      47.3  \n",
       "3                875                      54.8  \n",
       "4                491                      43.1  "
      ]
     },
     "execution_count": 3,
     "metadata": {},
     "output_type": "execute_result"
    }
   ],
   "source": [
    "df.head()"
   ]
  },
  {
   "cell_type": "code",
   "execution_count": 4,
   "id": "e9431cec",
   "metadata": {},
   "outputs": [
    {
     "data": {
      "text/plain": [
       "Transaction date                            0\n",
       "House Age                                   0\n",
       "Distance from nearest Metro station (km)    0\n",
       "Number of convenience stores                0\n",
       "latitude                                    0\n",
       "longitude                                   0\n",
       "Number of bedrooms                          0\n",
       "House size (sqft)                           0\n",
       "House price of unit area                    0\n",
       "dtype: int64"
      ]
     },
     "execution_count": 4,
     "metadata": {},
     "output_type": "execute_result"
    }
   ],
   "source": [
    "# checking for missing values\n",
    "df.isnull().sum()"
   ]
  },
  {
   "cell_type": "code",
   "execution_count": 5,
   "id": "bb83d4fc",
   "metadata": {},
   "outputs": [
    {
     "data": {
      "text/html": [
       "<div>\n",
       "<style scoped>\n",
       "    .dataframe tbody tr th:only-of-type {\n",
       "        vertical-align: middle;\n",
       "    }\n",
       "\n",
       "    .dataframe tbody tr th {\n",
       "        vertical-align: top;\n",
       "    }\n",
       "\n",
       "    .dataframe thead th {\n",
       "        text-align: right;\n",
       "    }\n",
       "</style>\n",
       "<table border=\"1\" class=\"dataframe\">\n",
       "  <thead>\n",
       "    <tr style=\"text-align: right;\">\n",
       "      <th></th>\n",
       "      <th>Transaction date</th>\n",
       "      <th>House Age</th>\n",
       "      <th>Distance from nearest Metro station (km)</th>\n",
       "      <th>Number of convenience stores</th>\n",
       "      <th>latitude</th>\n",
       "      <th>longitude</th>\n",
       "      <th>Number of bedrooms</th>\n",
       "      <th>House size (sqft)</th>\n",
       "      <th>House price of unit area</th>\n",
       "    </tr>\n",
       "  </thead>\n",
       "  <tbody>\n",
       "    <tr>\n",
       "      <th>count</th>\n",
       "      <td>414.000000</td>\n",
       "      <td>414.000000</td>\n",
       "      <td>414.000000</td>\n",
       "      <td>414.000000</td>\n",
       "      <td>414.000000</td>\n",
       "      <td>414.000000</td>\n",
       "      <td>414.000000</td>\n",
       "      <td>414.000000</td>\n",
       "      <td>414.000000</td>\n",
       "    </tr>\n",
       "    <tr>\n",
       "      <th>mean</th>\n",
       "      <td>2013.148953</td>\n",
       "      <td>17.712560</td>\n",
       "      <td>1083.885689</td>\n",
       "      <td>4.094203</td>\n",
       "      <td>24.969030</td>\n",
       "      <td>121.533361</td>\n",
       "      <td>1.987923</td>\n",
       "      <td>931.475845</td>\n",
       "      <td>37.980193</td>\n",
       "    </tr>\n",
       "    <tr>\n",
       "      <th>std</th>\n",
       "      <td>0.281995</td>\n",
       "      <td>11.392485</td>\n",
       "      <td>1262.109595</td>\n",
       "      <td>2.945562</td>\n",
       "      <td>0.012410</td>\n",
       "      <td>0.015347</td>\n",
       "      <td>0.818875</td>\n",
       "      <td>348.910269</td>\n",
       "      <td>13.606488</td>\n",
       "    </tr>\n",
       "    <tr>\n",
       "      <th>min</th>\n",
       "      <td>2012.666667</td>\n",
       "      <td>0.000000</td>\n",
       "      <td>23.382840</td>\n",
       "      <td>0.000000</td>\n",
       "      <td>24.932070</td>\n",
       "      <td>121.473530</td>\n",
       "      <td>1.000000</td>\n",
       "      <td>402.000000</td>\n",
       "      <td>7.600000</td>\n",
       "    </tr>\n",
       "    <tr>\n",
       "      <th>25%</th>\n",
       "      <td>2012.916667</td>\n",
       "      <td>9.025000</td>\n",
       "      <td>289.324800</td>\n",
       "      <td>1.000000</td>\n",
       "      <td>24.963000</td>\n",
       "      <td>121.528085</td>\n",
       "      <td>1.000000</td>\n",
       "      <td>548.000000</td>\n",
       "      <td>27.700000</td>\n",
       "    </tr>\n",
       "    <tr>\n",
       "      <th>50%</th>\n",
       "      <td>2013.166667</td>\n",
       "      <td>16.100000</td>\n",
       "      <td>492.231300</td>\n",
       "      <td>4.000000</td>\n",
       "      <td>24.971100</td>\n",
       "      <td>121.538630</td>\n",
       "      <td>2.000000</td>\n",
       "      <td>975.000000</td>\n",
       "      <td>38.450000</td>\n",
       "    </tr>\n",
       "    <tr>\n",
       "      <th>75%</th>\n",
       "      <td>2013.416667</td>\n",
       "      <td>28.150000</td>\n",
       "      <td>1454.279000</td>\n",
       "      <td>6.000000</td>\n",
       "      <td>24.977455</td>\n",
       "      <td>121.543305</td>\n",
       "      <td>3.000000</td>\n",
       "      <td>1234.750000</td>\n",
       "      <td>46.600000</td>\n",
       "    </tr>\n",
       "    <tr>\n",
       "      <th>max</th>\n",
       "      <td>2013.583333</td>\n",
       "      <td>43.800000</td>\n",
       "      <td>6488.021000</td>\n",
       "      <td>10.000000</td>\n",
       "      <td>25.014590</td>\n",
       "      <td>121.566270</td>\n",
       "      <td>3.000000</td>\n",
       "      <td>1500.000000</td>\n",
       "      <td>117.500000</td>\n",
       "    </tr>\n",
       "  </tbody>\n",
       "</table>\n",
       "</div>"
      ],
      "text/plain": [
       "       Transaction date   House Age  Distance from nearest Metro station (km)  \\\n",
       "count        414.000000  414.000000                                414.000000   \n",
       "mean        2013.148953   17.712560                               1083.885689   \n",
       "std            0.281995   11.392485                               1262.109595   \n",
       "min         2012.666667    0.000000                                 23.382840   \n",
       "25%         2012.916667    9.025000                                289.324800   \n",
       "50%         2013.166667   16.100000                                492.231300   \n",
       "75%         2013.416667   28.150000                               1454.279000   \n",
       "max         2013.583333   43.800000                               6488.021000   \n",
       "\n",
       "       Number of convenience stores    latitude   longitude  \\\n",
       "count                    414.000000  414.000000  414.000000   \n",
       "mean                       4.094203   24.969030  121.533361   \n",
       "std                        2.945562    0.012410    0.015347   \n",
       "min                        0.000000   24.932070  121.473530   \n",
       "25%                        1.000000   24.963000  121.528085   \n",
       "50%                        4.000000   24.971100  121.538630   \n",
       "75%                        6.000000   24.977455  121.543305   \n",
       "max                       10.000000   25.014590  121.566270   \n",
       "\n",
       "       Number of bedrooms  House size (sqft)  House price of unit area  \n",
       "count          414.000000         414.000000                414.000000  \n",
       "mean             1.987923         931.475845                 37.980193  \n",
       "std              0.818875         348.910269                 13.606488  \n",
       "min              1.000000         402.000000                  7.600000  \n",
       "25%              1.000000         548.000000                 27.700000  \n",
       "50%              2.000000         975.000000                 38.450000  \n",
       "75%              3.000000        1234.750000                 46.600000  \n",
       "max              3.000000        1500.000000                117.500000  "
      ]
     },
     "execution_count": 5,
     "metadata": {},
     "output_type": "execute_result"
    }
   ],
   "source": [
    "df.describe()"
   ]
  },
  {
   "cell_type": "code",
   "execution_count": 6,
   "id": "eda75068",
   "metadata": {},
   "outputs": [
    {
     "data": {
      "text/plain": [
       "<AxesSubplot:>"
      ]
     },
     "execution_count": 6,
     "metadata": {},
     "output_type": "execute_result"
    },
    {
     "data": {
      "image/png": "[encoded data removed]",
      "text/plain": [
       "<Figure size 640x480 with 1 Axes>"
      ]
     },
     "metadata": {},
     "output_type": "display_data"
    }
   ],
   "source": [
    "df['House price of unit area'].hist()"
   ]
  },
  {
   "cell_type": "code",
   "execution_count": 7,
   "id": "ca77fb52",
   "metadata": {},
   "outputs": [
    {
     "data": {
      "text/html": [
       "<div>\n",
       "<style scoped>\n",
       "    .dataframe tbody tr th:only-of-type {\n",
       "        vertical-align: middle;\n",
       "    }\n",
       "\n",
       "    .dataframe tbody tr th {\n",
       "        vertical-align: top;\n",
       "    }\n",
       "\n",
       "    .dataframe thead th {\n",
       "        text-align: right;\n",
       "    }\n",
       "</style>\n",
       "<table border=\"1\" class=\"dataframe\">\n",
       "  <thead>\n",
       "    <tr style=\"text-align: right;\">\n",
       "      <th></th>\n",
       "      <th>House price of unit area</th>\n",
       "    </tr>\n",
       "  </thead>\n",
       "  <tbody>\n",
       "    <tr>\n",
       "      <th>Transaction date</th>\n",
       "      <td>0.087529</td>\n",
       "    </tr>\n",
       "    <tr>\n",
       "      <th>House Age</th>\n",
       "      <td>-0.210567</td>\n",
       "    </tr>\n",
       "    <tr>\n",
       "      <th>Distance from nearest Metro station (km)</th>\n",
       "      <td>-0.673613</td>\n",
       "    </tr>\n",
       "    <tr>\n",
       "      <th>Number of convenience stores</th>\n",
       "      <td>0.571005</td>\n",
       "    </tr>\n",
       "    <tr>\n",
       "      <th>latitude</th>\n",
       "      <td>0.546307</td>\n",
       "    </tr>\n",
       "    <tr>\n",
       "      <th>longitude</th>\n",
       "      <td>0.523287</td>\n",
       "    </tr>\n",
       "    <tr>\n",
       "      <th>Number of bedrooms</th>\n",
       "      <td>0.050265</td>\n",
       "    </tr>\n",
       "    <tr>\n",
       "      <th>House size (sqft)</th>\n",
       "      <td>0.046489</td>\n",
       "    </tr>\n",
       "    <tr>\n",
       "      <th>House price of unit area</th>\n",
       "      <td>1.000000</td>\n",
       "    </tr>\n",
       "  </tbody>\n",
       "</table>\n",
       "</div>"
      ],
      "text/plain": [
       "                                          House price of unit area\n",
       "Transaction date                                          0.087529\n",
       "House Age                                                -0.210567\n",
       "Distance from nearest Metro station (km)                 -0.673613\n",
       "Number of convenience stores                              0.571005\n",
       "latitude                                                  0.546307\n",
       "longitude                                                 0.523287\n",
       "Number of bedrooms                                        0.050265\n",
       "House size (sqft)                                         0.046489\n",
       "House price of unit area                                  1.000000"
      ]
     },
     "execution_count": 7,
     "metadata": {},
     "output_type": "execute_result"
    }
   ],
   "source": [
    "df.corr()[['House price of unit area']]"
   ]
  },
  {
   "cell_type": "code",
   "execution_count": 8,
   "id": "c3481602",
   "metadata": {},
   "outputs": [],
   "source": [
    "X_train, X_test, y_train, y_test = train_test_split(df.drop('House price of unit area',axis=1), df['House price of unit area'], test_size=0.25, random_state=101)"
   ]
  },
  {
   "cell_type": "code",
   "execution_count": 9,
   "id": "3814eaae",
   "metadata": {},
   "outputs": [],
   "source": [
    "def relevant_feat(df):\n",
    "    return df.drop('Transaction date',axis =1)"
   ]
  },
  {
   "cell_type": "code",
   "execution_count": 10,
   "id": "a51d4f6f",
   "metadata": {},
   "outputs": [],
   "source": [
    "errors = []"
   ]
  },
  {
   "cell_type": "markdown",
   "id": "392d9d5e",
   "metadata": {},
   "source": [
    "# Linear Regression"
   ]
  },
  {
   "cell_type": "code",
   "execution_count": 11,
   "id": "de065b2a",
   "metadata": {},
   "outputs": [],
   "source": [
    "pipeline_LR = Pipeline([('ft',FunctionTransformer(relevant_feat)),('scaler',StandardScaler()),('model',LinearRegression())])"
   ]
  },
  {
   "cell_type": "code",
   "execution_count": 12,
   "id": "baa4a179",
   "metadata": {},
   "outputs": [
    {
     "data": {
      "text/plain": [
       "Pipeline(steps=[('ft',\n",
       "                 FunctionTransformer(func=<function relevant_feat at 0x000001C2771B20D0>)),\n",
       "                ('scaler', StandardScaler()), ('model', LinearRegression())])"
      ]
     },
     "execution_count": 12,
     "metadata": {},
     "output_type": "execute_result"
    }
   ],
   "source": [
    "pipeline_LR.fit(X_train,y_train)"
   ]
  },
  {
   "cell_type": "code",
   "execution_count": 13,
   "id": "29e1f609",
   "metadata": {},
   "outputs": [],
   "source": [
    "pred_train = pipeline_LR.predict(X_train)"
   ]
  },
  {
   "cell_type": "code",
   "execution_count": 14,
   "id": "748e9a15",
   "metadata": {},
   "outputs": [
    {
     "data": {
      "text/plain": [
       "9.571009636822083"
      ]
     },
     "execution_count": 14,
     "metadata": {},
     "output_type": "execute_result"
    }
   ],
   "source": [
    "#Root_mean_square_error of train data\n",
    "mean_squared_error(y_train,pred_train)**0.5"
   ]
  },
  {
   "cell_type": "code",
   "execution_count": 15,
   "id": "1d54845c",
   "metadata": {},
   "outputs": [],
   "source": [
    "pred = pipeline_LR.predict(X_test)"
   ]
  },
  {
   "cell_type": "code",
   "execution_count": 16,
   "id": "cff5a2e5",
   "metadata": {},
   "outputs": [
    {
     "data": {
      "text/plain": [
       "6.641110477811015"
      ]
     },
     "execution_count": 16,
     "metadata": {},
     "output_type": "execute_result"
    }
   ],
   "source": [
    "#Root_mean_square_error of test data\n",
    "mean_squared_error(y_test,pred)**0.5"
   ]
  },
  {
   "cell_type": "code",
   "execution_count": 17,
   "id": "dc7924f9",
   "metadata": {},
   "outputs": [],
   "source": [
    "errors.append([9.571009636822083,6.641110477811015])"
   ]
  },
  {
   "cell_type": "markdown",
   "id": "99664858",
   "metadata": {},
   "source": [
    "# Support Vector Regression"
   ]
  },
  {
   "cell_type": "code",
   "execution_count": 18,
   "id": "7a0c0a20",
   "metadata": {},
   "outputs": [],
   "source": [
    "param = {'gamma':[0.03,0.1,0.3,1],'C':[0.1,0.3,1,3]}"
   ]
  },
  {
   "cell_type": "code",
   "execution_count": 19,
   "id": "6e5a0c4f",
   "metadata": {},
   "outputs": [],
   "source": [
    "pipeline_SVR = Pipeline([('ft',FunctionTransformer(relevant_feat)),('scaler',StandardScaler()),('model',GridSearchCV(SVR(),param_grid=param,scoring = 'neg_mean_squared_error'))])"
   ]
  },
  {
   "cell_type": "code",
   "execution_count": 20,
   "id": "148d8699",
   "metadata": {},
   "outputs": [
    {
     "data": {
      "text/plain": [
       "Pipeline(steps=[('ft',\n",
       "                 FunctionTransformer(func=<function relevant_feat at 0x000001C2771B20D0>)),\n",
       "                ('scaler', StandardScaler()),\n",
       "                ('model',\n",
       "                 GridSearchCV(estimator=SVR(),\n",
       "                              param_grid={'C': [0.1, 0.3, 1, 3],\n",
       "                                          'gamma': [0.03, 0.1, 0.3, 1]},\n",
       "                              scoring='neg_mean_squared_error'))])"
      ]
     },
     "execution_count": 20,
     "metadata": {},
     "output_type": "execute_result"
    }
   ],
   "source": [
    "pipeline_SVR.fit(X_train,y_train)"
   ]
  },
  {
   "cell_type": "code",
   "execution_count": 21,
   "id": "200d4e9d",
   "metadata": {},
   "outputs": [],
   "source": [
    "pred_train = pipeline_SVR.predict(X_train)"
   ]
  },
  {
   "cell_type": "code",
   "execution_count": 22,
   "id": "9c6b1beb",
   "metadata": {},
   "outputs": [
    {
     "data": {
      "text/plain": [
       "8.770454758772766"
      ]
     },
     "execution_count": 22,
     "metadata": {},
     "output_type": "execute_result"
    }
   ],
   "source": [
    "#Root_mean_square_error of train data\n",
    "mean_squared_error(y_train,pred_train)**0.5"
   ]
  },
  {
   "cell_type": "code",
   "execution_count": 23,
   "id": "3caf819d",
   "metadata": {},
   "outputs": [],
   "source": [
    "pred = pipeline_SVR.predict(X_test)"
   ]
  },
  {
   "cell_type": "code",
   "execution_count": 25,
   "id": "f504eee5",
   "metadata": {},
   "outputs": [
    {
     "data": {
      "text/plain": [
       "5.9449866452431275"
      ]
     },
     "execution_count": 25,
     "metadata": {},
     "output_type": "execute_result"
    }
   ],
   "source": [
    "#Root_mean_square_error of test data\n",
    "mean_squared_error(y_test,pred)**0.5"
   ]
  },
  {
   "cell_type": "code",
   "execution_count": 26,
   "id": "6e92c8cf",
   "metadata": {},
   "outputs": [],
   "source": [
    "errors.append([8.770454758772766,5.9449866452431275])"
   ]
  },
  {
   "cell_type": "markdown",
   "id": "dd000bba",
   "metadata": {},
   "source": [
    "# KNeighbors Regressor"
   ]
  },
  {
   "cell_type": "code",
   "execution_count": 27,
   "id": "3b8c2d37",
   "metadata": {},
   "outputs": [],
   "source": [
    "param = {'n_neighbors':range(1,30)}"
   ]
  },
  {
   "cell_type": "code",
   "execution_count": 28,
   "id": "6b8b485c",
   "metadata": {},
   "outputs": [],
   "source": [
    "pipeline_KNR = Pipeline([('ft',FunctionTransformer(relevant_feat)),('scaler',StandardScaler()),('model',GridSearchCV(KNeighborsRegressor(n_neighbors=10),param_grid=param,scoring = 'neg_mean_squared_error'))])"
   ]
  },
  {
   "cell_type": "code",
   "execution_count": 29,
   "id": "6817f89f",
   "metadata": {},
   "outputs": [
    {
     "data": {
      "text/plain": [
       "Pipeline(steps=[('ft',\n",
       "                 FunctionTransformer(func=<function relevant_feat at 0x000001C2771B20D0>)),\n",
       "                ('scaler', StandardScaler()),\n",
       "                ('model',\n",
       "                 GridSearchCV(estimator=KNeighborsRegressor(n_neighbors=10),\n",
       "                              param_grid={'n_neighbors': range(1, 30)},\n",
       "                              scoring='neg_mean_squared_error'))])"
      ]
     },
     "execution_count": 29,
     "metadata": {},
     "output_type": "execute_result"
    }
   ],
   "source": [
    "pipeline_KNR.fit(X_train,y_train)"
   ]
  },
  {
   "cell_type": "code",
   "execution_count": 30,
   "id": "c1df3dfa",
   "metadata": {},
   "outputs": [],
   "source": [
    "pred_train = pipeline_KNR.predict(X_train)"
   ]
  },
  {
   "cell_type": "code",
   "execution_count": 31,
   "id": "b624a9c5",
   "metadata": {},
   "outputs": [
    {
     "data": {
      "text/plain": [
       "8.527518584030911"
      ]
     },
     "execution_count": 31,
     "metadata": {},
     "output_type": "execute_result"
    }
   ],
   "source": [
    "# root_mean_squared_error of train data\n",
    "mean_squared_error(y_train,pred_train)**0.5"
   ]
  },
  {
   "cell_type": "code",
   "execution_count": 32,
   "id": "49c0f63c",
   "metadata": {},
   "outputs": [],
   "source": [
    "pred = pipeline_KNR.predict(X_test)"
   ]
  },
  {
   "cell_type": "code",
   "execution_count": 33,
   "id": "b188c225",
   "metadata": {},
   "outputs": [
    {
     "data": {
      "text/plain": [
       "6.751101032945094"
      ]
     },
     "execution_count": 33,
     "metadata": {},
     "output_type": "execute_result"
    }
   ],
   "source": [
    "# root_mean_squared_error of test data\n",
    "mean_squared_error(y_test,pred)**0.5"
   ]
  },
  {
   "cell_type": "code",
   "execution_count": 34,
   "id": "9d995b49",
   "metadata": {},
   "outputs": [],
   "source": [
    "errors.append([8.527518584030911,6.751101032945094])"
   ]
  },
  {
   "cell_type": "markdown",
   "id": "42fb9956",
   "metadata": {},
   "source": [
    "# Decision Tree Regressor"
   ]
  },
  {
   "cell_type": "code",
   "execution_count": 35,
   "id": "5a566571",
   "metadata": {},
   "outputs": [],
   "source": [
    "param = {'max_depth': [2,4,6,None],'min_samples_split':[2,4,6,8],'min_samples_leaf':[1,2,4,8],'max_features':['auto','sqrt']}"
   ]
  },
  {
   "cell_type": "code",
   "execution_count": 36,
   "id": "762927fb",
   "metadata": {},
   "outputs": [],
   "source": [
    "pipeline_DTR = Pipeline([('ft',FunctionTransformer(relevant_feat)),('model',RandomizedSearchCV(DecisionTreeRegressor(),n_iter=20,param_distributions=param))])"
   ]
  },
  {
   "cell_type": "code",
   "execution_count": 37,
   "id": "b7441c5d",
   "metadata": {},
   "outputs": [
    {
     "data": {
      "text/plain": [
       "Pipeline(steps=[('ft',\n",
       "                 FunctionTransformer(func=<function relevant_feat at 0x000001C2771B20D0>)),\n",
       "                ('model',\n",
       "                 RandomizedSearchCV(estimator=DecisionTreeRegressor(),\n",
       "                                    n_iter=20,\n",
       "                                    param_distributions={'max_depth': [2, 4, 6,\n",
       "                                                                       None],\n",
       "                                                         'max_features': ['auto',\n",
       "                                                                          'sqrt'],\n",
       "                                                         'min_samples_leaf': [1,\n",
       "                                                                              2,\n",
       "                                                                              4,\n",
       "                                                                              8],\n",
       "                                                         'min_samples_split': [2,\n",
       "                                                                               4,\n",
       "                                                                               6,\n",
       "                                                                               8]}))])"
      ]
     },
     "execution_count": 37,
     "metadata": {},
     "output_type": "execute_result"
    }
   ],
   "source": [
    "pipeline_DTR.fit(X_train,y_train)"
   ]
  },
  {
   "cell_type": "code",
   "execution_count": 38,
   "id": "bc487aec",
   "metadata": {},
   "outputs": [],
   "source": [
    "pred_train = pipeline_DTR.predict(X_train)"
   ]
  },
  {
   "cell_type": "code",
   "execution_count": 39,
   "id": "7b5f50bb",
   "metadata": {},
   "outputs": [
    {
     "data": {
      "text/plain": [
       "8.043408799295507"
      ]
     },
     "execution_count": 39,
     "metadata": {},
     "output_type": "execute_result"
    }
   ],
   "source": [
    "# root_mean_square_error of train data\n",
    "mean_squared_error(y_train,pred_train)**0.5"
   ]
  },
  {
   "cell_type": "code",
   "execution_count": 40,
   "id": "2f06f96c",
   "metadata": {},
   "outputs": [],
   "source": [
    "pred = pipeline_DTR.predict(X_test)"
   ]
  },
  {
   "cell_type": "code",
   "execution_count": 41,
   "id": "70ddedd4",
   "metadata": {},
   "outputs": [
    {
     "data": {
      "text/plain": [
       "8.03409527715972"
      ]
     },
     "execution_count": 41,
     "metadata": {},
     "output_type": "execute_result"
    }
   ],
   "source": [
    "# root_mean_square_error of test data\n",
    "mean_squared_error(y_test,pred)**0.5"
   ]
  },
  {
   "cell_type": "code",
   "execution_count": 42,
   "id": "fc048a4d",
   "metadata": {},
   "outputs": [],
   "source": [
    "errors.append([8.043408799295507,8.03409527715972])"
   ]
  },
  {
   "cell_type": "markdown",
   "id": "8ae95011",
   "metadata": {},
   "source": [
    "# Random Forest Regressor"
   ]
  },
  {
   "cell_type": "code",
   "execution_count": 43,
   "id": "4031323e",
   "metadata": {},
   "outputs": [],
   "source": [
    "param = {'n_estimators':[50,100,200],'max_depth': [2,4,6,None],'min_samples_split':[2,4,6,8],'min_samples_leaf':[1,2,4,8],'max_features':['auto','sqrt'],'bootstrap':[True,False]}"
   ]
  },
  {
   "cell_type": "code",
   "execution_count": 44,
   "id": "4ca8b989",
   "metadata": {},
   "outputs": [],
   "source": [
    "pipeline_RFR = Pipeline([('ft',FunctionTransformer(relevant_feat)),('model',RandomizedSearchCV(RandomForestRegressor(),n_iter=20,param_distributions=param))])"
   ]
  },
  {
   "cell_type": "code",
   "execution_count": 45,
   "id": "53ad69f6",
   "metadata": {},
   "outputs": [
    {
     "data": {
      "text/plain": [
       "Pipeline(steps=[('ft',\n",
       "                 FunctionTransformer(func=<function relevant_feat at 0x000001C2771B20D0>)),\n",
       "                ('model',\n",
       "                 RandomizedSearchCV(estimator=RandomForestRegressor(),\n",
       "                                    n_iter=20,\n",
       "                                    param_distributions={'bootstrap': [True,\n",
       "                                                                       False],\n",
       "                                                         'max_depth': [2, 4, 6,\n",
       "                                                                       None],\n",
       "                                                         'max_features': ['auto',\n",
       "                                                                          'sqrt'],\n",
       "                                                         'min_samples_leaf': [1,\n",
       "                                                                              2,\n",
       "                                                                              4,\n",
       "                                                                              8],\n",
       "                                                         'min_samples_split': [2,\n",
       "                                                                               4,\n",
       "                                                                               6,\n",
       "                                                                               8],\n",
       "                                                         'n_estimators': [50,\n",
       "                                                                          100,\n",
       "                                                                          200]}))])"
      ]
     },
     "execution_count": 45,
     "metadata": {},
     "output_type": "execute_result"
    }
   ],
   "source": [
    "pipeline_RFR.fit(X_train,y_train)"
   ]
  },
  {
   "cell_type": "code",
   "execution_count": 46,
   "id": "50db4d74",
   "metadata": {},
   "outputs": [],
   "source": [
    "pred_train = pipeline_RFR.predict(X_train)"
   ]
  },
  {
   "cell_type": "code",
   "execution_count": 47,
   "id": "804affc4",
   "metadata": {},
   "outputs": [
    {
     "data": {
      "text/plain": [
       "5.773238497181599"
      ]
     },
     "execution_count": 47,
     "metadata": {},
     "output_type": "execute_result"
    }
   ],
   "source": [
    "# root_mean_squared_error of train data\n",
    "mean_squared_error(y_train,pred_train)**0.5"
   ]
  },
  {
   "cell_type": "code",
   "execution_count": 48,
   "id": "3e79fefb",
   "metadata": {},
   "outputs": [],
   "source": [
    "pred = pipeline_RFR.predict(X_test)"
   ]
  },
  {
   "cell_type": "code",
   "execution_count": 49,
   "id": "56641af3",
   "metadata": {},
   "outputs": [
    {
     "data": {
      "text/plain": [
       "5.482478621133"
      ]
     },
     "execution_count": 49,
     "metadata": {},
     "output_type": "execute_result"
    }
   ],
   "source": [
    "# root_mean_squared_error of test data\n",
    "mean_squared_error(y_test,pred)**0.5"
   ]
  },
  {
   "cell_type": "code",
   "execution_count": 50,
   "id": "6f8ea0da",
   "metadata": {},
   "outputs": [],
   "source": [
    "errors.append([5.773238497181599,5.482478621133])"
   ]
  },
  {
   "cell_type": "markdown",
   "id": "5dc7b04d",
   "metadata": {},
   "source": [
    "# AdaBoost Regressor"
   ]
  },
  {
   "cell_type": "code",
   "execution_count": 51,
   "id": "d481f4fc",
   "metadata": {},
   "outputs": [],
   "source": [
    "param = {'n_estimators':[50,100,200],'learning_rate':[0.01,0.1,0.5,1.0,2],'loss':['linear', 'square', 'exponential']}"
   ]
  },
  {
   "cell_type": "code",
   "execution_count": 52,
   "id": "b2a82fd7",
   "metadata": {},
   "outputs": [],
   "source": [
    "pipeline_ABR = Pipeline([('ft',FunctionTransformer(relevant_feat)),('model',RandomizedSearchCV(AdaBoostRegressor(),n_iter=10,param_distributions=param))])"
   ]
  },
  {
   "cell_type": "code",
   "execution_count": 53,
   "id": "46d5c671",
   "metadata": {},
   "outputs": [
    {
     "data": {
      "text/plain": [
       "Pipeline(steps=[('ft',\n",
       "                 FunctionTransformer(func=<function relevant_feat at 0x000001C2771B20D0>)),\n",
       "                ('model',\n",
       "                 RandomizedSearchCV(estimator=AdaBoostRegressor(),\n",
       "                                    param_distributions={'learning_rate': [0.01,\n",
       "                                                                           0.1,\n",
       "                                                                           0.5,\n",
       "                                                                           1.0,\n",
       "                                                                           2],\n",
       "                                                         'loss': ['linear',\n",
       "                                                                  'square',\n",
       "                                                                  'exponential'],\n",
       "                                                         'n_estimators': [50,\n",
       "                                                                          100,\n",
       "                                                                          200]}))])"
      ]
     },
     "execution_count": 53,
     "metadata": {},
     "output_type": "execute_result"
    }
   ],
   "source": [
    "pipeline_ABR.fit(X_train,y_train)"
   ]
  },
  {
   "cell_type": "code",
   "execution_count": 54,
   "id": "da28f848",
   "metadata": {},
   "outputs": [],
   "source": [
    "pred_train = pipeline_ABR.predict(X_train)"
   ]
  },
  {
   "cell_type": "code",
   "execution_count": 55,
   "id": "393f734e",
   "metadata": {},
   "outputs": [
    {
     "data": {
      "text/plain": [
       "7.630025236214465"
      ]
     },
     "execution_count": 55,
     "metadata": {},
     "output_type": "execute_result"
    }
   ],
   "source": [
    "# root_mean_squared_error of train data\n",
    "mean_squared_error(y_train,pred_train)**0.5"
   ]
  },
  {
   "cell_type": "code",
   "execution_count": 56,
   "id": "da2b02c6",
   "metadata": {},
   "outputs": [],
   "source": [
    "pred = pipeline_ABR.predict(X_test)"
   ]
  },
  {
   "cell_type": "code",
   "execution_count": 57,
   "id": "f6c5404e",
   "metadata": {},
   "outputs": [
    {
     "data": {
      "text/plain": [
       "5.863616654775037"
      ]
     },
     "execution_count": 57,
     "metadata": {},
     "output_type": "execute_result"
    }
   ],
   "source": [
    "# root_mean_squared_error of test data\n",
    "mean_squared_error(y_test,pred)**0.5"
   ]
  },
  {
   "cell_type": "code",
   "execution_count": 58,
   "id": "5b1bdc7b",
   "metadata": {},
   "outputs": [],
   "source": [
    "errors.append([7.630025236214465,5.863616654775037])"
   ]
  },
  {
   "cell_type": "markdown",
   "id": "f3754999",
   "metadata": {},
   "source": [
    "# LGBM Regressor"
   ]
  },
  {
   "cell_type": "code",
   "execution_count": 82,
   "id": "68ce6517",
   "metadata": {},
   "outputs": [],
   "source": [
    "param = {'n_estimators':[50,100,200],'num_leaves':[20,31,40,50],'learning_rate':[0.01,0.03,0.1,0.3,1],'min_child_samples':[10,20,30]}"
   ]
  },
  {
   "cell_type": "code",
   "execution_count": 83,
   "id": "ad92a112",
   "metadata": {},
   "outputs": [],
   "source": [
    "pipeline_LGBMR = Pipeline([('ft',FunctionTransformer(relevant_feat)),('model',RandomizedSearchCV(LGBMRegressor(),n_iter=20,param_distributions=param))])"
   ]
  },
  {
   "cell_type": "code",
   "execution_count": 84,
   "id": "b5b00aac",
   "metadata": {},
   "outputs": [
    {
     "data": {
      "text/plain": [
       "Pipeline(steps=[('ft',\n",
       "                 FunctionTransformer(func=<function relevant_feat at 0x000001C2771B20D0>)),\n",
       "                ('model',\n",
       "                 RandomizedSearchCV(estimator=LGBMRegressor(), n_iter=20,\n",
       "                                    param_distributions={'learning_rate': [0.01,\n",
       "                                                                           0.03,\n",
       "                                                                           0.1,\n",
       "                                                                           0.3,\n",
       "                                                                           1],\n",
       "                                                         'min_child_samples': [10,\n",
       "                                                                               20,\n",
       "                                                                               30],\n",
       "                                                         'n_estimators': [50,\n",
       "                                                                          100,\n",
       "                                                                          200],\n",
       "                                                         'num_leaves': [20, 31,\n",
       "                                                                        40,\n",
       "                                                                        50]}))])"
      ]
     },
     "execution_count": 84,
     "metadata": {},
     "output_type": "execute_result"
    }
   ],
   "source": [
    "pipeline_LGBMR.fit(X_train,y_train)"
   ]
  },
  {
   "cell_type": "code",
   "execution_count": 85,
   "id": "73ef3587",
   "metadata": {},
   "outputs": [],
   "source": [
    "pred_train = pipeline_LGBMR.predict(X_train)"
   ]
  },
  {
   "cell_type": "code",
   "execution_count": 86,
   "id": "54fe4264",
   "metadata": {},
   "outputs": [
    {
     "data": {
      "text/plain": [
       "6.415044395120238"
      ]
     },
     "execution_count": 86,
     "metadata": {},
     "output_type": "execute_result"
    }
   ],
   "source": [
    "# root_mean_squared_error of train data\n",
    "mean_squared_error(y_train,pred_train)**0.5"
   ]
  },
  {
   "cell_type": "code",
   "execution_count": 87,
   "id": "0a176b73",
   "metadata": {},
   "outputs": [],
   "source": [
    "pred = pipeline_LGBMR.predict(X_test)"
   ]
  },
  {
   "cell_type": "code",
   "execution_count": 88,
   "id": "ae17e8cc",
   "metadata": {},
   "outputs": [
    {
     "data": {
      "text/plain": [
       "5.525285327849288"
      ]
     },
     "execution_count": 88,
     "metadata": {},
     "output_type": "execute_result"
    }
   ],
   "source": [
    "# root_mean_squared_error of test data\n",
    "mean_squared_error(y_test,pred)**0.5"
   ]
  },
  {
   "cell_type": "code",
   "execution_count": 89,
   "id": "d18753cd",
   "metadata": {},
   "outputs": [],
   "source": [
    "errors.append([6.415044395120238,5.525285327849288])"
   ]
  },
  {
   "cell_type": "markdown",
   "id": "0f0b239e",
   "metadata": {},
   "source": [
    "# XGB Regressor (Extreme Gradient Boost)"
   ]
  },
  {
   "cell_type": "code",
   "execution_count": 90,
   "id": "730a2946",
   "metadata": {},
   "outputs": [
    {
     "data": {
      "text/plain": [
       "XGBRegressor(base_score=None, booster=None, callbacks=None,\n",
       "             colsample_bylevel=None, colsample_bynode=None,\n",
       "             colsample_bytree=None, early_stopping_rounds=None,\n",
       "             enable_categorical=False, eval_metric=None, feature_types=None,\n",
       "             gamma=None, gpu_id=None, grow_policy=None, importance_type=None,\n",
       "             interaction_constraints=None, learning_rate=None, max_bin=None,\n",
       "             max_cat_threshold=None, max_cat_to_onehot=None,\n",
       "             max_delta_step=None, max_depth=None, max_leaves=None,\n",
       "             min_child_weight=None, missing=nan, monotone_constraints=None,\n",
       "             n_estimators=100, n_jobs=None, num_parallel_tree=None,\n",
       "             predictor=None, random_state=None, ...)"
      ]
     },
     "execution_count": 90,
     "metadata": {},
     "output_type": "execute_result"
    }
   ],
   "source": [
    "XGBRegressor()"
   ]
  },
  {
   "cell_type": "code",
   "execution_count": 91,
   "id": "ec0d894d",
   "metadata": {},
   "outputs": [],
   "source": [
    "param = {'n_estimators':[100,200],'learning_rate':[0.003,0.01,0.03,0.1,0.3,1],'max_leaves':[None,31,50]}"
   ]
  },
  {
   "cell_type": "code",
   "execution_count": 92,
   "id": "8d0fc208",
   "metadata": {},
   "outputs": [],
   "source": [
    "pipeline_XGBR = Pipeline([('ft',FunctionTransformer(relevant_feat)),('model',GridSearchCV(XGBRegressor(),param_grid = param))])"
   ]
  },
  {
   "cell_type": "code",
   "execution_count": 93,
   "id": "76fc0ee5",
   "metadata": {},
   "outputs": [
    {
     "data": {
      "text/plain": [
       "Pipeline(steps=[('ft',\n",
       "                 FunctionTransformer(func=<function relevant_feat at 0x000001C2771B20D0>)),\n",
       "                ('model',\n",
       "                 GridSearchCV(estimator=XGBRegressor(base_score=None,\n",
       "                                                     booster=None,\n",
       "                                                     callbacks=None,\n",
       "                                                     colsample_bylevel=None,\n",
       "                                                     colsample_bynode=None,\n",
       "                                                     colsample_bytree=None,\n",
       "                                                     early_stopping_rounds=None,\n",
       "                                                     enable_categorical=False,\n",
       "                                                     eval_metric=None,\n",
       "                                                     feature_types=None,\n",
       "                                                     gamma=None, gp...\n",
       "                                                     max_cat_threshold=None,\n",
       "                                                     max_cat_to_onehot=None,\n",
       "                                                     max_delta_step=None,\n",
       "                                                     max_depth=None,\n",
       "                                                     max_leaves=None,\n",
       "                                                     min_child_weight=None,\n",
       "                                                     missing=nan,\n",
       "                                                     monotone_constraints=None,\n",
       "                                                     n_estimators=100,\n",
       "                                                     n_jobs=None,\n",
       "                                                     num_parallel_tree=None,\n",
       "                                                     predictor=None,\n",
       "                                                     random_state=None, ...),\n",
       "                              param_grid={'learning_rate': [0.003, 0.01, 0.03,\n",
       "                                                            0.1, 0.3, 1],\n",
       "                                          'max_leaves': [None, 31, 50],\n",
       "                                          'n_estimators': [100, 200]}))])"
      ]
     },
     "execution_count": 93,
     "metadata": {},
     "output_type": "execute_result"
    }
   ],
   "source": [
    "pipeline_XGBR.fit(X_train,y_train)"
   ]
  },
  {
   "cell_type": "code",
   "execution_count": 94,
   "id": "80d05ac2",
   "metadata": {},
   "outputs": [],
   "source": [
    "pred_train = pipeline_XGBR.predict(X_train)"
   ]
  },
  {
   "cell_type": "code",
   "execution_count": 95,
   "id": "ae2f2f93",
   "metadata": {},
   "outputs": [
    {
     "data": {
      "text/plain": [
       "1.833984281612409"
      ]
     },
     "execution_count": 95,
     "metadata": {},
     "output_type": "execute_result"
    }
   ],
   "source": [
    "# root_mean_squared_error of train data\n",
    "mean_squared_error(y_train,pred_train)**0.5"
   ]
  },
  {
   "cell_type": "code",
   "execution_count": 96,
   "id": "a8f70e94",
   "metadata": {},
   "outputs": [],
   "source": [
    "pred = pipeline_XGBR.predict(X_test)"
   ]
  },
  {
   "cell_type": "code",
   "execution_count": 97,
   "id": "a0221ac7",
   "metadata": {},
   "outputs": [
    {
     "data": {
      "text/plain": [
       "5.984710136420102"
      ]
     },
     "execution_count": 97,
     "metadata": {},
     "output_type": "execute_result"
    }
   ],
   "source": [
    "# root_mean_squared_error of test data\n",
    "mean_squared_error(y_test,pred)**0.5"
   ]
  },
  {
   "cell_type": "code",
   "execution_count": 98,
   "id": "482a48b0",
   "metadata": {},
   "outputs": [],
   "source": [
    "errors.append([1.833984281612409,5.984710136420102])"
   ]
  },
  {
   "cell_type": "code",
   "execution_count": 100,
   "id": "0bd4777d",
   "metadata": {},
   "outputs": [],
   "source": [
    "ind = ['Linear_Regression','Support_Vector_Regression','KNeighbors_Regressor','Decision_Tree_Regressor','Random_Forest_Regressor','AdaBoost_Regressor','LGBM_Regressor','XGB_Regressor']\n",
    "errors = pd.DataFrame(errors,index = ind ,columns = ['error_train_data','error_test_data'])"
   ]
  },
  {
   "cell_type": "code",
   "execution_count": 101,
   "id": "afeb3b1d",
   "metadata": {},
   "outputs": [
    {
     "data": {
      "text/html": [
       "<div>\n",
       "<style scoped>\n",
       "    .dataframe tbody tr th:only-of-type {\n",
       "        vertical-align: middle;\n",
       "    }\n",
       "\n",
       "    .dataframe tbody tr th {\n",
       "        vertical-align: top;\n",
       "    }\n",
       "\n",
       "    .dataframe thead th {\n",
       "        text-align: right;\n",
       "    }\n",
       "</style>\n",
       "<table border=\"1\" class=\"dataframe\">\n",
       "  <thead>\n",
       "    <tr style=\"text-align: right;\">\n",
       "      <th></th>\n",
       "      <th>error_train_data</th>\n",
       "      <th>error_test_data</th>\n",
       "    </tr>\n",
       "  </thead>\n",
       "  <tbody>\n",
       "    <tr>\n",
       "      <th>Linear_Regression</th>\n",
       "      <td>9.571010</td>\n",
       "      <td>6.641110</td>\n",
       "    </tr>\n",
       "    <tr>\n",
       "      <th>Support_Vector_Regression</th>\n",
       "      <td>8.770455</td>\n",
       "      <td>5.944987</td>\n",
       "    </tr>\n",
       "    <tr>\n",
       "      <th>KNeighbors_Regressor</th>\n",
       "      <td>8.527519</td>\n",
       "      <td>6.751101</td>\n",
       "    </tr>\n",
       "    <tr>\n",
       "      <th>Decision_Tree_Regressor</th>\n",
       "      <td>8.043409</td>\n",
       "      <td>8.034095</td>\n",
       "    </tr>\n",
       "    <tr>\n",
       "      <th>Random_Forest_Regressor</th>\n",
       "      <td>5.773238</td>\n",
       "      <td>5.482479</td>\n",
       "    </tr>\n",
       "    <tr>\n",
       "      <th>AdaBoost_Regressor</th>\n",
       "      <td>7.630025</td>\n",
       "      <td>5.863617</td>\n",
       "    </tr>\n",
       "    <tr>\n",
       "      <th>LGBM_Regressor</th>\n",
       "      <td>6.415044</td>\n",
       "      <td>5.525285</td>\n",
       "    </tr>\n",
       "    <tr>\n",
       "      <th>XGB_Regressor</th>\n",
       "      <td>1.833984</td>\n",
       "      <td>5.984710</td>\n",
       "    </tr>\n",
       "  </tbody>\n",
       "</table>\n",
       "</div>"
      ],
      "text/plain": [
       "                           error_train_data  error_test_data\n",
       "Linear_Regression                  9.571010         6.641110\n",
       "Support_Vector_Regression          8.770455         5.944987\n",
       "KNeighbors_Regressor               8.527519         6.751101\n",
       "Decision_Tree_Regressor            8.043409         8.034095\n",
       "Random_Forest_Regressor            5.773238         5.482479\n",
       "AdaBoost_Regressor                 7.630025         5.863617\n",
       "LGBM_Regressor                     6.415044         5.525285\n",
       "XGB_Regressor                      1.833984         5.984710"
      ]
     },
     "execution_count": 101,
     "metadata": {},
     "output_type": "execute_result"
    }
   ],
   "source": [
    "errors"
   ]
  },
  {
   "cell_type": "code",
   "execution_count": 116,
   "id": "a26e6d61",
   "metadata": {
    "scrolled": true
   },
   "outputs": [
    {
     "data": {
      "text/plain": [
       "<AxesSubplot:>"
      ]
     },
     "execution_count": 116,
     "metadata": {},
     "output_type": "execute_result"
    },
    {
     "data": {
      "image/png": "[encoded data removed]",
      "text/plain": [
       "<Figure size 640x480 with 1 Axes>"
      ]
     },
     "metadata": {},
     "output_type": "display_data"
    }
   ],
   "source": [
    "errors.plot.bar(y = ['error_train_data','error_test_data'])"
   ]
  }
 ],
 "metadata": {
  "kernelspec": {
   "display_name": "Python 3 (ipykernel)",
   "language": "python",
   "name": "python3"
  },
  "language_info": {
   "codemirror_mode": {
    "name": "ipython",
    "version": 3
   },
   "file_extension": ".py",
   "mimetype": "text/x-python",
   "name": "python",
   "nbconvert_exporter": "python",
   "pygments_lexer": "ipython3",
   "version": "3.9.13"
  }
 },
 "nbformat": 4,
 "nbformat_minor": 5
}
